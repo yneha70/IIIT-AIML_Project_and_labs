{
  "nbformat": 4,
  "nbformat_minor": 0,
  "metadata": {
    "colab": {
      "provenance": [],
      "authorship_tag": "ABX9TyMaWzHN3bE5LhTJ27XgJseu",
      "include_colab_link": true
    },
    "kernelspec": {
      "name": "python3",
      "display_name": "Python 3"
    },
    "language_info": {
      "name": "python"
    }
  },
  "cells": [
    {
      "cell_type": "markdown",
      "metadata": {
        "id": "view-in-github",
        "colab_type": "text"
      },
      "source": [
        "<a href=\"https://colab.research.google.com/github/yneha70/IIIT-AIML_Project_and_labs/blob/main/Module6_lab1.ipynb\" target=\"_parent\"><img src=\"https://colab.research.google.com/assets/colab-badge.svg\" alt=\"Open In Colab\"/></a>"
      ]
    },
    {
      "cell_type": "code",
      "execution_count": 1,
      "metadata": {
        "id": "D27XVGLxERfA"
      },
      "outputs": [],
      "source": [
        "import torch\n",
        "import torch.nn as nn"
      ]
    },
    {
      "cell_type": "code",
      "source": [
        "from sklearn import datasets\n",
        "from sklearn import preprocessing\n",
        "iris = datasets.load_iris()\n",
        "X = torch.tensor(preprocessing.normalize(iris.data[:, :2]), dtype=torch.float)\n",
        "y = torch.tensor(iris.target.reshape(-1, 1), dtype=torch.float)"
      ],
      "metadata": {
        "id": "e2J2DHQXEdbQ"
      },
      "execution_count": 2,
      "outputs": []
    },
    {
      "cell_type": "code",
      "source": [
        "torch.manual_seed(2)"
      ],
      "metadata": {
        "colab": {
          "base_uri": "https://localhost:8080/"
        },
        "id": "M5bQigbxEgsG",
        "outputId": "c7f7337a-20a9-4117-d252-0d4a5ba91615"
      },
      "execution_count": 3,
      "outputs": [
        {
          "output_type": "execute_result",
          "data": {
            "text/plain": [
              "<torch._C.Generator at 0x798054be04b0>"
            ]
          },
          "metadata": {},
          "execution_count": 3
        }
      ]
    },
    {
      "cell_type": "code",
      "source": [
        "print(X.size())\n",
        "print(y.size())"
      ],
      "metadata": {
        "colab": {
          "base_uri": "https://localhost:8080/"
        },
        "id": "7j1bTiHrEhmc",
        "outputId": "dddc10f4-0b28-4816-f038-13b152bca1fb"
      },
      "execution_count": 4,
      "outputs": [
        {
          "output_type": "stream",
          "name": "stdout",
          "text": [
            "torch.Size([150, 2])\n",
            "torch.Size([150, 1])\n"
          ]
        }
      ]
    },
    {
      "cell_type": "code",
      "source": [
        "X = X[:y[y < 2].size()[0]]\n",
        "y = y[:y[y < 2].size()[0]]"
      ],
      "metadata": {
        "id": "szg-Lu_2EkKK"
      },
      "execution_count": 5,
      "outputs": []
    },
    {
      "cell_type": "code",
      "source": [
        "print(X.size())\n",
        "print(y.size())"
      ],
      "metadata": {
        "colab": {
          "base_uri": "https://localhost:8080/"
        },
        "id": "6yczmh9AEpO8",
        "outputId": "8aeb82aa-9781-47c8-a420-0c2ed1c512b4"
      },
      "execution_count": 6,
      "outputs": [
        {
          "output_type": "stream",
          "name": "stdout",
          "text": [
            "torch.Size([100, 2])\n",
            "torch.Size([100, 1])\n"
          ]
        }
      ]
    },
    {
      "cell_type": "code",
      "source": [
        "print(torch.randn(2, 32).size())"
      ],
      "metadata": {
        "colab": {
          "base_uri": "https://localhost:8080/"
        },
        "id": "djnDh45xEqT4",
        "outputId": "04e7f4d4-22dd-47af-f81f-3c6240b2d4bc"
      },
      "execution_count": 7,
      "outputs": [
        {
          "output_type": "stream",
          "name": "stdout",
          "text": [
            "torch.Size([2, 32])\n"
          ]
        }
      ]
    },
    {
      "cell_type": "code",
      "source": [
        "class FNN(nn.Module):\n",
        "    def __init__(self, ):\n",
        "        super().__init__()\n",
        "        self.input_dim = 2\n",
        "        self.hidden_dim = 32\n",
        "        self.output_dim = 1\n",
        "        self.learning_rate = 0.001\n",
        "\n",
        "        self.w1 = torch.randn(self.input_dim, self.hidden_dim)\n",
        "\n",
        "        self.w2 = torch.randn(self.hidden_dim, self.output_dim)\n",
        "\n",
        "    def sigmoid(self, s):\n",
        "        return 1 / (1 + torch.exp(-s))\n",
        "\n",
        "    def sigmoid_first_order_derivative(self, s):\n",
        "        return s * (1 - s)\n",
        "\n",
        "    def forward(self, X):\n",
        "\n",
        "        self.y1 = torch.matmul(X, self.w1)\n",
        "\n",
        "        self.y2 = self.sigmoid(self.y1)\n",
        "\n",
        "        self.y3 = torch.matmul(self.y2, self.w2)\n",
        "\n",
        "        y4 = self.sigmoid(self.y3)\n",
        "        return y4\n",
        "\n",
        "    def backward(self, X, l, y4):\n",
        "        self.dC_dy4 = y4 - l\n",
        "\n",
        "        self.dy4_dy3 = self.sigmoid_first_order_derivative(y4)\n",
        "        self.dy3_dw2 = self.y2\n",
        "\n",
        "        self.y4_delta = self.dC_dy4 * self.dy4_dy3\n",
        "        self.dC_dw2 = torch.matmul(torch.t(self.dy3_dw2), self.y4_delta)\n",
        "        self.dy3_dy2 = self.w2\n",
        "        self.dy2_dy1 = self.sigmoid_first_order_derivative(self.y2)\n",
        "\n",
        "        self.y2_delta = torch.matmul(self.y4_delta, torch.t(self.dy3_dy2)) * self.dy2_dy1\n",
        "\n",
        "        self.dC_dw1 = torch.matmul(torch.t(X), self.y2_delta)\n",
        "        self.w1 -= self.learning_rate * self.dC_dw1\n",
        "        self.w2 -= self.learning_rate * self.dC_dw2\n",
        "\n",
        "    def train(self, X, l):\n",
        "\n",
        "        y4 = self.forward(X)\n",
        "        self.backward(X, l, y4)"
      ],
      "metadata": {
        "id": "WsQ8gQLKEtWb"
      },
      "execution_count": 8,
      "outputs": []
    },
    {
      "cell_type": "code",
      "source": [
        "model = FNN()\n",
        "loss_lst = []\n",
        "num_epochs = 101\n",
        "for epoch in range(num_epochs):\n",
        "    y_hat = model(X)\n",
        "    cross_entropy_loss = -(y * torch.log(y_hat) + (1 - y) * torch.log(1 - y_hat))\n",
        "    mean_cross_entropy_loss = torch.mean(cross_entropy_loss).detach().item()\n",
        "    if epoch % 20 == 0:\n",
        "        print('Epoch {} | Loss: {}'.format(epoch, mean_cross_entropy_loss))\n",
        "    loss_lst.append(mean_cross_entropy_loss)\n",
        "    model.train(X, y)"
      ],
      "metadata": {
        "colab": {
          "base_uri": "https://localhost:8080/"
        },
        "id": "bioezP4lFMfr",
        "outputId": "0738a51b-ecdd-4569-e7ba-a6c077c09448"
      },
      "execution_count": 9,
      "outputs": [
        {
          "output_type": "stream",
          "name": "stdout",
          "text": [
            "Epoch 0 | Loss: 0.9228230118751526\n",
            "Epoch 20 | Loss: 0.6966762542724609\n",
            "Epoch 40 | Loss: 0.6714916229248047\n",
            "Epoch 60 | Loss: 0.6686137914657593\n",
            "Epoch 80 | Loss: 0.666690468788147\n",
            "Epoch 100 | Loss: 0.6648103594779968\n"
          ]
        }
      ]
    },
    {
      "cell_type": "code",
      "source": [
        "import pandas as pd\n",
        "%matplotlib inline\n",
        "pd.Series(loss_lst).plot()"
      ],
      "metadata": {
        "colab": {
          "base_uri": "https://localhost:8080/",
          "height": 447
        },
        "id": "Y4dqr_tlFaTW",
        "outputId": "918b2c97-2bb3-4cd8-b270-02a237f07439"
      },
      "execution_count": 10,
      "outputs": [
        {
          "output_type": "execute_result",
          "data": {
            "text/plain": [
              "<Axes: >"
            ]
          },
          "metadata": {},
          "execution_count": 10
        },
        {
          "output_type": "display_data",
          "data": {
            "text/plain": [
              "<Figure size 640x480 with 1 Axes>"
            ],
            "image/png": "[encoded data removed]"
          },
          "metadata": {}
        }
      ]
    }
  ]
}